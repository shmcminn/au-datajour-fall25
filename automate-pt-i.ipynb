{
 "cells": [
  {
   "cell_type": "markdown",
   "id": "588973c2-07ff-4900-94fb-f6e7485d3e28",
   "metadata": {},
   "source": [
    "# Automate this - Pt I "
   ]
  },
  {
   "cell_type": "markdown",
   "id": "3f90d603-592d-451d-b003-8cbc4234089b",
   "metadata": {},
   "source": [
    "## What am I looking at?"
   ]
  },
  {
   "cell_type": "markdown",
   "id": "8da69334-97f1-4832-b0fe-2d11fc0e194f",
   "metadata": {},
   "source": [
    "This is a Jupyter Notebook. It lets you run Pythoon code cell-by-cell. Go ahead and try runninng these next few cells one at a time. (Note: you can run a cell by selecting it then clicking the play button, or by hitting shfit+enter)"
   ]
  },
  {
   "cell_type": "code",
   "execution_count": 1,
   "id": "f8764aad-466d-41c9-9938-2f35381a5b4d",
   "metadata": {},
   "outputs": [
    {
     "data": {
      "text/plain": [
       "5"
      ]
     },
     "execution_count": 1,
     "metadata": {},
     "output_type": "execute_result"
    }
   ],
   "source": [
    "2+3"
   ]
  },
  {
   "cell_type": "code",
   "execution_count": 2,
   "id": "18317836-7f45-4fcd-b2be-17d5f527ad1d",
   "metadata": {},
   "outputs": [
    {
     "name": "stdout",
     "output_type": "stream",
     "text": [
      "hello world\n"
     ]
    }
   ],
   "source": [
    "print(\"hello world\")"
   ]
  },
  {
   "cell_type": "code",
   "execution_count": 3,
   "id": "e273d5db-21d9-47e8-ba75-81082236ccce",
   "metadata": {},
   "outputs": [
    {
     "name": "stdout",
     "output_type": "stream",
     "text": [
      "Nice to meet you, **Write your name here**\n"
     ]
    }
   ],
   "source": [
    "my_name = \"**Write your name here**\"\n",
    "print(\"Nice to meet you, \" + my_name)"
   ]
  },
  {
   "cell_type": "markdown",
   "id": "06d6911d-7094-4403-9cda-d19454630d96",
   "metadata": {},
   "source": [
    "See on that cell above how it's printing `Nice to meet you, **Write your name here**`? Fix that by deleting `**Write your name here**` and putting your name instead in the next cell, then running it."
   ]
  },
  {
   "cell_type": "code",
   "execution_count": 11,
   "id": "0edbeaa1-fabc-468a-b5be-5f7956558990",
   "metadata": {},
   "outputs": [
    {
     "name": "stdout",
     "output_type": "stream",
     "text": [
      "Nice to meet you, **Write your name here**\n"
     ]
    }
   ],
   "source": [
    "my_name = \"**Write your name here**\"\n",
    "print(\"Nice to meet you, \" + my_name)"
   ]
  },
  {
   "cell_type": "markdown",
   "id": "53ceaf72-a848-49bf-a715-e179b2c9399b",
   "metadata": {},
   "source": [
    "This is using a *variable* in your code, in this case called `my_name`. That variable can be set to whatever you want. It's like algebra, where `x+3` changes depending on what `x` is."
   ]
  },
  {
   "cell_type": "code",
   "execution_count": 6,
   "id": "58af4f6a-7a45-4053-9aed-d8e08e1646c7",
   "metadata": {},
   "outputs": [],
   "source": [
    "# set the variable of x\n",
    "x = 5"
   ]
  },
  {
   "cell_type": "code",
   "execution_count": 7,
   "id": "3f134995-4c32-436f-ac47-927f5bd7dd6d",
   "metadata": {},
   "outputs": [
    {
     "data": {
      "text/plain": [
       "8"
      ]
     },
     "execution_count": 7,
     "metadata": {},
     "output_type": "execute_result"
    }
   ],
   "source": [
    "x+3"
   ]
  },
  {
   "cell_type": "code",
   "execution_count": 8,
   "id": "d3942059-2f61-4476-8250-ce844a20e6b2",
   "metadata": {},
   "outputs": [],
   "source": [
    "# change the variable of x\n",
    "x = 500"
   ]
  },
  {
   "cell_type": "code",
   "execution_count": 9,
   "id": "3d151441-4314-4537-a654-b380c9d1946e",
   "metadata": {},
   "outputs": [
    {
     "data": {
      "text/plain": [
       "503"
      ]
     },
     "execution_count": 9,
     "metadata": {},
     "output_type": "execute_result"
    }
   ],
   "source": [
    "x+3"
   ]
  },
  {
   "cell_type": "markdown",
   "id": "907ba58a-ef22-48e4-9af2-8e33834164dd",
   "metadata": {},
   "source": [
    "We're not going to spend a ton of time going over all the fundamentals of programming, but we'll be taking advantage of variables as \"shortcuts\" throughout our lesson. So, for example, if I want to keep using my name in code, I don't have to write `\"Sean McMinn\"` every time, I can just type `my_name`"
   ]
  },
  {
   "cell_type": "markdown",
   "id": "4c2a9fc0-e2ad-478f-8475-a843762431a7",
   "metadata": {},
   "source": [
    "## Loading in libraries"
   ]
  },
  {
   "cell_type": "markdown",
   "id": "f867a7ff-049a-4704-916e-99be9603d05b",
   "metadata": {},
   "source": [
    "We can use this same idea of shorcuts for huge blocks of prewritten code. These are known as *modules* or *libraries*. Some come included with Python, others you have to install.\n",
    "\n",
    "First, we're going to bring in a module called `date` from a larger module called `datetime`"
   ]
  },
  {
   "cell_type": "code",
   "execution_count": 10,
   "id": "3630a5ac-5761-4b9e-9f14-fcc554348881",
   "metadata": {},
   "outputs": [],
   "source": [
    "from datetime import date"
   ]
  },
  {
   "cell_type": "markdown",
   "id": "67d19e56-fe4f-4975-a39b-65028d90ce20",
   "metadata": {},
   "source": [
    "See if you can figure out what the next block of code is doing, then run it."
   ]
  },
  {
   "cell_type": "code",
   "execution_count": null,
   "id": "6601056d-3da3-48c9-a41e-d7c0cc07e4b9",
   "metadata": {},
   "outputs": [],
   "source": [
    "start_date = date(2025, 1, 20)\n",
    "end_date = date.today()\n",
    "\n",
    "difference = end_date - start_date\n",
    "print(\"It's been\", difference.days, \"days since Trump took office.\")"
   ]
  },
  {
   "cell_type": "markdown",
   "id": "6659c0a4-40e9-4f88-830d-3dd7ba3f94d0",
   "metadata": {},
   "source": [
    "This module `date` lets us work with dates and store them as variables. In this case, it's also calculating the difference in dates for us."
   ]
  },
  {
   "cell_type": "markdown",
   "id": "e34f81c4-d9e6-47b1-a071-5df4909afa24",
   "metadata": {},
   "source": [
    "Another library called `pandas` lets us work with spreadsheets and store them as variables. We typically abbreviate it as `pd`, which you can tell Python to do when you import the library."
   ]
  },
  {
   "cell_type": "code",
   "execution_count": null,
   "id": "0883e5fc-7333-4d28-bae4-db27dbf37058",
   "metadata": {},
   "outputs": [],
   "source": [
    "import pandas as pd"
   ]
  },
  {
   "cell_type": "code",
   "execution_count": null,
   "id": "fa56fab2-fdbc-4bec-8c45-36b8268c1539",
   "metadata": {},
   "outputs": [],
   "source": [
    "pd.read_csv(\"TKTK\")"
   ]
  }
 ],
 "metadata": {
  "kernelspec": {
   "display_name": "Python 3 (ipykernel)",
   "language": "python",
   "name": "python3"
  },
  "language_info": {
   "codemirror_mode": {
    "name": "ipython",
    "version": 3
   },
   "file_extension": ".py",
   "mimetype": "text/x-python",
   "name": "python",
   "nbconvert_exporter": "python",
   "pygments_lexer": "ipython3",
   "version": "3.12.5"
  }
 },
 "nbformat": 4,
 "nbformat_minor": 5
}
